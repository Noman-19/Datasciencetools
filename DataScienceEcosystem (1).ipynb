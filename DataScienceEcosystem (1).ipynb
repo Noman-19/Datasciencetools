{
  "nbformat": 4,
  "nbformat_minor": 0,
  "metadata": {
    "colab": {
      "provenance": []
    },
    "kernelspec": {
      "name": "python3",
      "display_name": "Python 3"
    },
    "language_info": {
      "name": "python"
    }
  },
  "cells": [
    {
      "cell_type": "code",
      "execution_count": 3,
      "metadata": {
        "id": "4S964Oo1YJNN"
      },
      "outputs": [],
      "source": [
        "# Data Science Tools and Ecosystem\n",
        "\n"
      ]
    },
    {
      "cell_type": "markdown",
      "source": [
        "In this notebook, Data Science Tools and Ecosystem are summarized.\n",
        "\n"
      ],
      "metadata": {
        "id": "aehb2m-AZ4eg"
      }
    },
    {
      "cell_type": "markdown",
      "source": [
        "Some of the popular languages that Data scientists used are:\n",
        "1.Python\n",
        "2.R\n",
        "3.SQL\n"
      ],
      "metadata": {
        "id": "0e1rwtOkarmr"
      }
    },
    {
      "cell_type": "code",
      "source": [],
      "metadata": {
        "id": "7wiBCWHDay9G"
      },
      "execution_count": null,
      "outputs": []
    },
    {
      "cell_type": "markdown",
      "source": [
        "Some of the commonly used libraries used by Data Scientists include:\n",
        "1. Pandas\n",
        "2. NumPy\n",
        "3. Matplotlib\n"
      ],
      "metadata": {
        "id": "pG_Z-uujbMvT"
      }
    },
    {
      "cell_type": "markdown",
      "source": [
        "| Data Science Tools |\n",
        "|--------------------|\n",
        "| Jupyter Notebook   |\n",
        "| RStudio            |\n",
        "| Apache Zeppelin    |\n"
      ],
      "metadata": {
        "id": "IN2d8FulbgAX"
      }
    },
    {
      "cell_type": "markdown",
      "source": [
        "### Below are a few examples of evaluating arithmetic expressions in Python.\n"
      ],
      "metadata": {
        "id": "1x-Ukt-vdEFV"
      }
    },
    {
      "cell_type": "code",
      "source": [
        "# This is a simple arithmetic expression to multiply then add integers\n",
        "(3*4)+5\n"
      ],
      "metadata": {
        "colab": {
          "base_uri": "https://localhost:8080/"
        },
        "id": "mSAAk7YBdYue",
        "outputId": "ee5e98b9-3045-44ad-a44b-27f8d6460d46"
      },
      "execution_count": 5,
      "outputs": [
        {
          "output_type": "execute_result",
          "data": {
            "text/plain": [
              "17"
            ]
          },
          "metadata": {},
          "execution_count": 5
        }
      ]
    },
    {
      "cell_type": "code",
      "source": [
        "# This will convert 200 minutes to hours by dividing by 60.\n",
        "200 / 60\n"
      ],
      "metadata": {
        "colab": {
          "base_uri": "https://localhost:8080/"
        },
        "id": "2ozIHpGsdtYF",
        "outputId": "53a2bf92-7848-4a90-ac2c-5dd830ef228b"
      },
      "execution_count": 6,
      "outputs": [
        {
          "output_type": "execute_result",
          "data": {
            "text/plain": [
              "3.3333333333333335"
            ]
          },
          "metadata": {},
          "execution_count": 6
        }
      ]
    },
    {
      "cell_type": "markdown",
      "source": [
        "**Objectives:**\n",
        "- List popular languages for Data Science.\n",
        "- List common libraries used in Data Science.\n",
        "- Demonstrate basic arithmetic operations in Python.\n",
        "- Convert minutes to hours in Python.\n",
        "\n"
      ],
      "metadata": {
        "id": "SI_1wdSvd8-3"
      }
    },
    {
      "cell_type": "code",
      "source": [],
      "metadata": {
        "id": "E2Yd-4lieBFn"
      },
      "execution_count": null,
      "outputs": []
    },
    {
      "cell_type": "markdown",
      "source": [
        "## Author\n",
        "Hafiz Noman Javed\n"
      ],
      "metadata": {
        "id": "PEpxKgXhek63"
      }
    },
    {
      "cell_type": "code",
      "source": [],
      "metadata": {
        "id": "7I4yHObSeqQn"
      },
      "execution_count": null,
      "outputs": []
    }
  ]
}